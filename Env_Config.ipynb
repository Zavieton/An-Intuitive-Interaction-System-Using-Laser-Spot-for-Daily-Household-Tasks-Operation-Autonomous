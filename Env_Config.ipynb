{
 "cells": [
  {
   "cell_type": "markdown",
   "id": "df897cef",
   "metadata": {},
   "source": [
    " # 环境配置"
   ]
  },
  {
   "cell_type": "markdown",
   "id": "ac043a56",
   "metadata": {},
   "source": [            \n",
    "\n",
    "##### 2021/06/03更新"
   ]
  },
  {
   "cell_type": "markdown",
   "id": "ed1ad106",
   "metadata": {},
   "source": [
    "# 1. Ubuntu 18.04 安装"
   ]
  },
  {
   "cell_type": "markdown",
   "id": "ffafdeef",
   "metadata": {},
   "source": [
    "ubuntu的安装建议采用双系统进行安装，不建议采用虚拟机。"
   ]
  },
  {
   "cell_type": "markdown",
   "id": "df14a31f",
   "metadata": {},
   "source": [
    "可以参考\n",
    "\n",
    "https://zhidao.baidu.com/question/1758752085938823428.html?fr=iks&word=ubuntn+18.04+win10+%CB%AB%CF%B5%CD%B3%B0%B2%D7%B0%CF%EA%CF%B8%BD%CC%B3%CC&ie=gbk"
   ]
  },
  {
   "cell_type": "markdown",
   "id": "9ad4c07d",
   "metadata": {},
   "source": [
    "注：安装过程需要制作启动U盘，安装完以后U盘不要急着删，防止出现问题二次安装"
   ]
  },
  {
   "cell_type": "markdown",
   "id": "8ab761e8",
   "metadata": {},
   "source": [
    "# 2.Cuda & CUDNN\n"
   ]
  },
  {
   "cell_type": "markdown",
   "id": "6bfea944",
   "metadata": {},
   "source": [
    "可以参考\n",
    "\n",
    "https://blog.csdn.net/lwplwf/article/details/79881699?ops_request_misc=&request_id=&biz_id=102&utm_term=%E6%98%BE%E5%8D%A1%20cuda%E5%AE%89%E8%A3%85&utm_medium=distribute.pc_search_result.none-task-blog-2~all~sobaiduweb~default-6-.pc_search_result_before_js&spm=1018.2226.3001.4187\n",
    "\n",
    "我也是在这里跌了好几个跟头才不知怎么回事就装好了，建议多参考博客，如果黑屏或者出现问题可以直接用上一步的启动U盘重装系统。\n",
    "\n",
    "要注意的一点是，GPU--CUDA--CUDNN的版本要对应，具体可以参考和查看\n",
    "\n",
    "https://developer.nvidia.com/zh-cn/cuda-gpus"
   ]
  },
  {
   "cell_type": "markdown",
   "id": "f16ef5ce",
   "metadata": {},
   "source": [
    "# 3. ROS安装"
   ]
  },
  {
   "cell_type": "markdown",
   "id": "1f782234",
   "metadata": {},
   "source": [
    "参考ros官网：http://wiki.ros.org/melodic/Installation/Ubuntu\n",
    "务必安装对应的ROS版本，比如Ubuntu 18.04对应ROS为Melodic"
   ]
  },
  {
   "cell_type": "markdown",
   "id": "a36dcfaa",
   "metadata": {},
   "source": [
    "# 4. Opencv"
   ]
  },
  {
   "cell_type": "markdown",
   "id": "98371501",
   "metadata": {},
   "source": [
    "**这一块的安装比较重要，需要仔细**"
   ]
  },
  {
   "cell_type": "markdown",
   "id": "880a10e3",
   "metadata": {},
   "source": [
    "Opencv版本不同，相关的配置差别会比较大。其中，需要指出的是OpenCV3.4版本和OpenCV4+版本。相比于3.+版本，4.+版本的opencv开始支持Darknet网络的直接调用，这对于YOLO算法的实现的非常方便的。而在ROS系统下，如果采用Darknet-ROS软件包实现YOLO算法，则必须采用OpenCV3.+进行操作。在我的YOLO算法实现中，是使用了python并直接调用opencv与darknet的API实现的目标检测。因此，我的Opencv版本安装为4.1。安装过程可以参考https://blog.csdn.net/weixin_41921520/article/details/97927633"
   ]
  },
  {
   "cell_type": "markdown",
   "id": "7cef03af",
   "metadata": {},
   "source": [
    "安装opencv-python可以直接执行 \n",
    "\n",
    "**pip install opencv-python**\n",
    "\n",
    "有时候国内网速慢，可以尝试临时换源，具体方法见\n",
    "\n",
    "https://blog.csdn.net/u011505165/article/details/110817296?ops_request_misc=%257B%2522request%255Fid%2522%253A%2522162270323516780262512387%2522%252C%2522scm%2522%253A%252220140713.130102334..%2522%257D&request_id=162270323516780262512387&biz_id=0&utm_medium=distribute.pc_search_result.none-task-blog-2~all~sobaiduend~default-1-110817296.pc_search_result_before_js&utm_term=pip%E6%B8%85%E5%8D%8E%E6%BA%90&spm=1018.2226.3001.4187\n",
    "\n",
    "如果采用GPU加速，需要在opencv编译的时候  **选择编译python**\n",
    "\n",
    "cmake -D CMAKE_BUILD_TYPE=RELEASE \\\n",
    "\t-D CMAKE_INSTALL_PREFIX=/usr/local \\\n",
    "\t-D INSTALL_PYTHON_EXAMPLES=ON \\\n",
    "\t-D INSTALL_C_EXAMPLES=OFF \\\n",
    "\t-D OPENCV_ENABLE_NONFREE=ON \\\n",
    "\t-D WITH_CUDA=ON \\\n",
    "\t-D WITH_CUDNN=ON \\\n",
    "\t-D OPENCV_DNN_CUDA=ON \\\n",
    "\t-D ENABLE_FAST_MATH=1 \\\n",
    "\t-D CUDA_FAST_MATH=1 \\\n",
    "\t-D CUDA_ARCH_BIN=6.1 \\\n",
    "\t-D WITH_CUBLAS=1 \\\n",
    "\t-D OPENCV_EXTRA_MODULES_PATH=~/opencv/opencv_contrib/modules \\\n",
    "\t-D HAVE_opencv_python=ON \\\n",
    "\t-D PYTHON_EXECUTABLE= /usr/bin/python2.7  \\\n",
    "\t-D BUILD_EXAMPLES=ON .."
   ]
  },
  {
   "cell_type": "markdown",
   "id": "39a16790",
   "metadata": {},
   "source": [
    "需要注意的一点是，ROS默认支持python2版本。所以有时候安装在python环境的模块并不能在ROS中调用（会提示不能import之类的），这时候就需要指定版本进行安装\n",
    "\n",
    "https://blog.csdn.net/weixin_42451919/article/details/86495981?ops_request_misc=&request_id=&biz_id=102&utm_term=%E6%8C%87%E5%AE%9Apython%E5%AE%89%E8%A3%85&utm_medium=distribute.pc_search_result.none-task-blog-2~all~sobaiduweb~default-4-.pc_search_result_before_js&spm=1018.2226.3001.4187\n",
    "\n",
    "比如，我想往python3.6版本安装东西，则可以执行 python3.6 -m pip install xxx\n",
    "\n",
    "在终端键入python可以查看默认的版本，这是pip默认安装到的python版本。"
   ]
  },
  {
   "cell_type": "markdown",
   "id": "b9cf454f",
   "metadata": {},
   "source": [
    "# 5. realsense摄像头的安装"
   ]
  },
  {
   "cell_type": "markdown",
   "id": "75467afd",
   "metadata": {},
   "source": [
    "参考\n",
    "\n",
    "https://github.com/IntelRealSense/realsense-ros\n",
    "\n",
    "https://blog.csdn.net/a17381562089/article/details/115345082?utm_medium=distribute.pc_relevant.none-task-blog-2%7Edefault%7EBlogCommendFromMachineLearnPai2%7Edefault-2.control&depth_1-utm_source=distribute.pc_relevant.none-task-blog-2%7Edefault%7EBlogCommendFromMachineLearnPai2%7Edefault-2.control"
   ]
  },
  {
   "cell_type": "markdown",
   "id": "cb0ccd90",
   "metadata": {},
   "source": [
    "首先注册密钥：\n",
    "\n",
    "sudo apt-key adv --keyserver keys.gnupg.net --recv-key F6E65AC044F831AC80A06380C8B3A55A6F3EFCDE || sudo apt-key adv --keyserver hkp://keyserver.ubuntu.com:80 --recv-key F6E65AC044F831AC80A06380C8B3A55A6F3EFCDE\n",
    "\n",
    "添加仓库：\n",
    "\n",
    "sudo add-apt-repository \"deb https://librealsense.intel.com/Debian/apt-repo bionic main\" -u\n",
    "\n",
    "库安装：\n",
    "\n",
    "sudo apt-get install librealsense2-dkms\n",
    "\n",
    "sudo apt-get install librealsense2-utils\n",
    "\n",
    "ROS下安装包：\n",
    "\n",
    "sudo apt-get install ros-melodic-realsense2-camera\n",
    "\n",
    "sudo apt-get install ros-melodic-realsense2-description\n",
    "\n",
    "**(注：这一步可以直接从官网把包clone到工作空间，然后catkin_make)**\n",
    "git clone https://github.com/IntelRealSense/realsense-ros.git"
   ]
  },
  {
   "cell_type": "markdown",
   "id": "5ce7ce96",
   "metadata": {},
   "source": [
    "# 6. 本项目程序的介绍\n"
   ]
  },
  {
   "cell_type": "markdown",
   "id": "ec434170",
   "metadata": {},
   "source": [
    "可以到我的Github下载本项目\n",
    "\n",
    "git clone https://github.com/Zavieton/WMRA_Laser_Control.git\n",
    "\n",
    "下载了不要先放到工作空间，直接编译肯定会报错,而且我只上传了几个节点文件和msg文件。这里建议自己创建一个软件包，并将这些节点逐个移植过来。"
   ]
  },
  {
   "cell_type": "markdown",
   "id": "ac4f5464",
   "metadata": {},
   "source": [
    "首先在软件包创建一个data文件夹，把data中的数据拷贝过去，并将msg中的文件拷贝到msg文件夹,并添加到CMakeList文件。\n",
    "\n",
    "### *data中的数据说明：*\n",
    "\n",
    "Excel文件中存储的是采集的激光点时序序列，这一点可以参考我的毕业论文。\n",
    "\n",
    "FormatDatalibsvm.xls 文件是一个格式转换器，可以将数据转化为libsvm可以读取的数据。其中，test和train文件是转换以后的文件。\n",
    "\n",
    "### *libsvm安装*\n",
    "\n",
    "libsvm是台大开发的一个支持向量机的library，可以从官网下载https://www.csie.ntu.edu.tw/~cjlin/libsvm/\n",
    "\n",
    "（个人推荐）也可以直接执行 pip install libsvm‑3.22‑cp37‑cp37m‑win_amd64.whl\n",
    "\n",
    "这个库支持的语言挺多的，别的地方用到SVM也可以去官网看看有没有支持\n",
    "\n",
    "### *scripts中的文件*\n",
    "这里的五个节点分别是：\n",
    "\n",
    "（1）目标检测节点，其功能是实现摄像头节点视频流的接收和机器视觉检测。   realsense_detector.py\n",
    "\n",
    "（2）指令分类节点，其功能是实现指令的分类与发布。ordertalker.py\n",
    "\n",
    "（3）深度检测节点，其功能是是实现深度的获取。depth_talker.py\n",
    "\n",
    "（4）关节位置获取节点，其功能是实现机械爪开合姿态的获取，用于动作判断。 toolpos_get.py\n",
    "\n",
    "（5） 信息融合节点，其功能是实现信息流的整合并发布给机械臂。msgmix.py\n",
    "\n",
    "下面分别介绍几个节点文件移植的注意事项\n"
   ]
  },
  {
   "cell_type": "markdown",
   "id": "7f75b939",
   "metadata": {},
   "source": [
    "# 7. 节点移植"
   ]
  },
  {
   "cell_type": "markdown",
   "id": "10977b6d",
   "metadata": {},
   "source": [
    "copy每一个节点文件到自己工作空间后，为了确保可以正常运行，都要进行一下修改权限\n",
    "\n",
    "**chmod 777 (文件名）**\n",
    "\n",
    "以及编译：\n",
    "\n",
    "**catkin_make**"
   ]
  },
  {
   "cell_type": "markdown",
   "id": "c690cce6",
   "metadata": {},
   "source": [
    "### （1）realsense_detector.py"
   ]
  },
  {
   "cell_type": "markdown",
   "id": "67830758",
   "metadata": {},
   "source": [
    "***from *detector_sample.msg* import target_point**\n",
    "\n",
    "此处注意：detector_sample为我设定的软件包名，根据自己的情况改动\n",
    "\n",
    "**weightsPath = '/home/zavieton/darknet/yolov3.weights'  # 模型权重文件**\n",
    "\n",
    "**configPath = \"/home/zavieton/darknet/cfg/yolov3.cfg\"  # 模型配置文件**\n",
    "\n",
    "**labelsPath = \"/home/zavieton/darknet/data/coco.names\"  # 模型类别标签文件**\n",
    "\n",
    "Darknet相关的模型及网络结构文件更改为自己的文件路径\n",
    "\n",
    "**net = cv2.dnn.readNetFromDarknet(configPath, weightsPath)**\n",
    "\n",
    "**net.setPreferableBackend(cv2.dnn.DNN_BACKEND_CUDA)**\n",
    "\n",
    "**net.setPreferableTarget(cv2.dnn.DNN_TARGET_CUDA)**\n",
    "\n",
    "此处为设置一些网络结构，其中如果没有安装CUDA，第2-3行会报错并提示*switch to CPU*"
   ]
  },
  {
   "cell_type": "markdown",
   "id": "079ca9f4",
   "metadata": {},
   "source": [
    "注意：由于该结点订阅realsense相机发布的话题，因此在启动该节点前需要启动摄像头\n",
    "\n",
    "**roslaunch realsense2_camera rs_camera.launch**\n",
    "\n",
    "启动该节点：\n",
    "\n",
    "**rosrun detector_sample（软件包名）  realsense_detector.py**"
   ]
  },
  {
   "cell_type": "markdown",
   "id": "b9d70206",
   "metadata": {},
   "source": [
    "### （2）ordertalker.py"
   ]
  },
  {
   "cell_type": "markdown",
   "id": "36813548",
   "metadata": {},
   "source": [
    "**from detector_sample.msg import order**\n",
    "\n",
    "**y, x = svm_read_problem('/home/zavieton/catkin_ws/src/detector_sample/dataset/trainv32.txt')**\n",
    "\n",
    "注意修改上述两行代码的路径"
   ]
  },
  {
   "cell_type": "markdown",
   "id": "89ed327d",
   "metadata": {},
   "source": [
    "### （3）depth_talker.py"
   ]
  },
  {
   "cell_type": "markdown",
   "id": "53e99e52",
   "metadata": {},
   "source": [
    "**from detector_sample.msg import target_point**\n",
    "\n",
    "**from detector_sample.msg import depth**\n",
    "\n",
    "同样注意修改为自己的软件包名，同时注意realsense相机需要彩色度与深度图对齐才可以读取正确的深度信息\n",
    "\n",
    "关于realsense的对齐没有仔细研究，如有需要可以自行探索以下；\n",
    "\n",
    "不过关于xtion摄像头的对齐可以参考我的毕业论文，有相关介绍"
   ]
  },
  {
   "cell_type": "markdown",
   "id": "32f1d7b5",
   "metadata": {},
   "source": [
    "### （4）toolpos_get.py"
   ]
  },
  {
   "cell_type": "markdown",
   "id": "0ebe7ed0",
   "metadata": {},
   "source": [
    "调用此节点前需要连接并打开机械臂驱动：\n",
    "\n",
    "**roslaunch kinova_bringup kinova_robot.launch**"
   ]
  },
  {
   "cell_type": "markdown",
   "id": "9e975c2f",
   "metadata": {},
   "source": [
    "### （5）msgmix.py"
   ]
  },
  {
   "cell_type": "markdown",
   "id": "4e800dcd",
   "metadata": {},
   "source": [
    "**from detector_sample.msg import order**\n",
    "\n",
    "**from detector_sample.msg import depth**\n",
    "\n",
    "**from detector_sample.msg import msgmix**\n",
    "\n",
    "**from detector_sample.msg import toolpos**\n",
    "\n",
    "如果上述节点可以正常使用，该节点只需修改软件包名即可"
   ]
  }
 ],
 "metadata": {
  "kernelspec": {
   "display_name": "Python 3",
   "language": "python",
   "name": "python3"
  },
  "language_info": {
   "codemirror_mode": {
    "name": "ipython",
    "version": 3
   },
   "file_extension": ".py",
   "mimetype": "text/x-python",
   "name": "python",
   "nbconvert_exporter": "python",
   "pygments_lexer": "ipython3",
   "version": "3.6.9"
  },
  "notify_time": "0",
  "toc": {
   "base_numbering": 1,
   "nav_menu": {},
   "number_sections": true,
   "sideBar": true,
   "skip_h1_title": false,
   "title_cell": "Table of Contents",
   "title_sidebar": "Contents",
   "toc_cell": false,
   "toc_position": {},
   "toc_section_display": true,
   "toc_window_display": false
  },
  "varInspector": {
   "cols": {
    "lenName": 16,
    "lenType": 16,
    "lenVar": 40
   },
   "kernels_config": {
    "python": {
     "delete_cmd_postfix": "",
     "delete_cmd_prefix": "del ",
     "library": "var_list.py",
     "varRefreshCmd": "print(var_dic_list())"
    },
    "r": {
     "delete_cmd_postfix": ") ",
     "delete_cmd_prefix": "rm(",
     "library": "var_list.r",
     "varRefreshCmd": "cat(var_dic_list()) "
    }
   },
   "types_to_exclude": [
    "module",
    "function",
    "builtin_function_or_method",
    "instance",
    "_Feature"
   ],
   "window_display": false
  }
 },
 "nbformat": 4,
 "nbformat_minor": 5
}
